{
 "cells": [
  {
   "cell_type": "markdown",
   "metadata": {},
   "source": [
    "# 將清洗後的資料，從Python導入儲存至MySQL建置資料庫"
   ]
  },
  {
   "cell_type": "code",
   "execution_count": 1,
   "metadata": {},
   "outputs": [
    {
     "name": "stdout",
     "output_type": "stream",
     "text": [
      "Successfully connected\n"
     ]
    }
   ],
   "source": [
    "import pymysql\n",
    "\n",
    "#設定連線資訊\n",
    "host = 'localhost'\n",
    "port = 3306\n",
    "user = 'root'\n",
    "passwd = 'xxxxx'\n",
    "charset = 'utf8mb4'\n",
    "\n",
    "#建立連線\n",
    "conn = pymysql.connect(host=host,port=port,user=user,passwd=passwd,charset=charset,local_infile=True)\n",
    "print('Successfully connected')"
   ]
  },
  {
   "cell_type": "code",
   "execution_count": 2,
   "metadata": {},
   "outputs": [
    {
     "data": {
      "text/plain": [
       "1"
      ]
     },
     "execution_count": 2,
     "metadata": {},
     "output_type": "execute_result"
    }
   ],
   "source": [
    "#建立游標\n",
    "cursor = conn.cursor()\n",
    "\n",
    "#建立新資料庫\n",
    "cursor.execute(\"CREATE DATABASE IF NOT EXISTS Final_Group_Project_DB;\")"
   ]
  },
  {
   "cell_type": "code",
   "execution_count": 3,
   "metadata": {},
   "outputs": [
    {
     "data": {
      "text/plain": [
       "0"
      ]
     },
     "execution_count": 3,
     "metadata": {},
     "output_type": "execute_result"
    }
   ],
   "source": [
    "#切換新建立資料庫 Final_Group_Project_DB\n",
    "sql =\"\"\"\n",
    "USE Final_Group_Project_DB;\n",
    "\"\"\"\n",
    "cursor.execute(sql)"
   ]
  },
  {
   "cell_type": "code",
   "execution_count": 4,
   "metadata": {},
   "outputs": [
    {
     "data": {
      "text/plain": [
       "0"
      ]
     },
     "execution_count": 4,
     "metadata": {},
     "output_type": "execute_result"
    }
   ],
   "source": [
    "#建立 product TABLE\n",
    "sql =\"\"\"\n",
    "CREATE TABLE product (\n",
    "            PRODUCT_ID INT NOT NULL,\n",
    "            MANUFACTURER INT,\n",
    "            DEPARTMENT VARCHAR(20),\n",
    "            BRAND VARCHAR(20),\n",
    "            COMMODITY_DESC VARCHAR(40),\n",
    "            SUB_COMMODITY_DESC VARCHAR(40),\n",
    "            CURR_SIZE_OF_PRODUCT VARCHAR(20),\n",
    "            \n",
    "            CONSTRAINT PRODUCKT_ID_PK PRIMARY KEY (PRODUCT_ID)\n",
    "\n",
    ")ENGINE = INNODB;\n",
    "\"\"\"\n",
    "cursor.execute(sql)"
   ]
  },
  {
   "cell_type": "code",
   "execution_count": 5,
   "metadata": {},
   "outputs": [
    {
     "data": {
      "text/plain": [
       "92353"
      ]
     },
     "execution_count": 5,
     "metadata": {},
     "output_type": "execute_result"
    }
   ],
   "source": [
    "#匯入product.csv檔案到資料庫\n",
    "sql =\"\"\"\n",
    "LOAD DATA LOCAL INFILE \"./data/product.csv\" \n",
    "INTO TABLE product\n",
    "FIELDS TERMINATED BY ',' \n",
    "ENCLOSED BY '\"'\n",
    "LINES TERMINATED BY '\\n'\n",
    "IGNORE 1 ROWS\n",
    "(PRODUCT_ID,MANUFACTURER,DEPARTMENT,BRAND,COMMODITY_DESC,SUB_COMMODITY_DESC,CURR_SIZE_OF_PRODUCT);\n",
    "\"\"\"\n",
    "cursor.execute(sql)"
   ]
  },
  {
   "cell_type": "code",
   "execution_count": 6,
   "metadata": {},
   "outputs": [],
   "source": [
    "#交易確認送出\n",
    "conn.commit()"
   ]
  },
  {
   "cell_type": "code",
   "execution_count": 7,
   "metadata": {},
   "outputs": [
    {
     "data": {
      "text/plain": [
       "0"
      ]
     },
     "execution_count": 7,
     "metadata": {},
     "output_type": "execute_result"
    }
   ],
   "source": [
    "#建立 hh_demographic TABLE \n",
    "sql =\"\"\"\n",
    "CREATE TABLE hh_demographic (\n",
    "            AGE_DESC VARCHAR(10),\n",
    "            MARITAL_STATUS_CODE VARCHAR(5),\n",
    "            INCOME_DESC VARCHAR(20),\n",
    "            HOMEOWNER_DESC VARCHAR(20),\n",
    "            HH_COMP_DESC VARCHAR(20),\n",
    "            HOUSEHOLD_SIZE_DESC VARCHAR(5),\n",
    "            KID_CATEGORY_DESC VARCHAR(20),\n",
    "            household_key INT NOT NULL,\n",
    "            \n",
    "            CONSTRAINT household_key_PK PRIMARY KEY (household_key)\n",
    "            \n",
    ")ENGINE = INNODB;\n",
    "\"\"\"\n",
    "cursor.execute(sql)"
   ]
  },
  {
   "cell_type": "code",
   "execution_count": 8,
   "metadata": {},
   "outputs": [
    {
     "data": {
      "text/plain": [
       "2500"
      ]
     },
     "execution_count": 8,
     "metadata": {},
     "output_type": "execute_result"
    }
   ],
   "source": [
    "#匯入hh_demographic_filling_missing_data.csv檔案到資料庫\n",
    "sql =\"\"\"\n",
    "LOAD DATA LOCAL INFILE \"./data/hh_demographic_filling_missing_data.csv\" \n",
    "INTO TABLE hh_demographic\n",
    "FIELDS TERMINATED BY ',' \n",
    "ENCLOSED BY '\"'\n",
    "LINES TERMINATED BY '\\n'\n",
    "IGNORE 1 ROWS\n",
    "(AGE_DESC,MARITAL_STATUS_CODE,INCOME_DESC,HOMEOWNER_DESC,HH_COMP_DESC,HOUSEHOLD_SIZE_DESC,KID_CATEGORY_DESC,household_key);\n",
    "\"\"\"\n",
    "cursor.execute(sql)"
   ]
  },
  {
   "cell_type": "code",
   "execution_count": 9,
   "metadata": {},
   "outputs": [],
   "source": [
    "#交易確認送出\n",
    "conn.commit()"
   ]
  },
  {
   "cell_type": "code",
   "execution_count": 10,
   "metadata": {},
   "outputs": [
    {
     "data": {
      "text/plain": [
       "0"
      ]
     },
     "execution_count": 10,
     "metadata": {},
     "output_type": "execute_result"
    }
   ],
   "source": [
    "#建立 campaign_desc TABLE\n",
    "sql =\"\"\"\n",
    "CREATE TABLE campaign_desc (\n",
    "            DESCRIPTION VARCHAR(10),\n",
    "            CAMPAIGN SMALLINT NOT NULL,\n",
    "            START_DAY SMALLINT,\n",
    "            END_DAY SMALLINT,\n",
    "            \n",
    "            CONSTRAINT CAMPAIGN_PK PRIMARY KEY (CAMPAIGN)\n",
    "            \n",
    ")ENGINE = INNODB;\n",
    "\"\"\"\n",
    "cursor.execute(sql)"
   ]
  },
  {
   "cell_type": "code",
   "execution_count": 11,
   "metadata": {},
   "outputs": [
    {
     "data": {
      "text/plain": [
       "30"
      ]
     },
     "execution_count": 11,
     "metadata": {},
     "output_type": "execute_result"
    }
   ],
   "source": [
    "# 匯入campaign_desc.csv檔案到資料庫\n",
    "sql =\"\"\"\n",
    "LOAD DATA LOCAL INFILE \"./data/campaign_desc.csv\" \n",
    "INTO TABLE campaign_desc\n",
    "FIELDS TERMINATED BY ',' \n",
    "ENCLOSED BY '\"'\n",
    "LINES TERMINATED BY '\\n'\n",
    "IGNORE 1 ROWS\n",
    "(DESCRIPTION,CAMPAIGN,START_DAY,END_DAY);\n",
    "\"\"\"\n",
    "cursor.execute(sql)"
   ]
  },
  {
   "cell_type": "code",
   "execution_count": 12,
   "metadata": {},
   "outputs": [],
   "source": [
    "#交易確認送出\n",
    "conn.commit()"
   ]
  },
  {
   "cell_type": "code",
   "execution_count": 13,
   "metadata": {},
   "outputs": [
    {
     "data": {
      "text/plain": [
       "0"
      ]
     },
     "execution_count": 13,
     "metadata": {},
     "output_type": "execute_result"
    }
   ],
   "source": [
    "#建立 campaign_table TABLE\n",
    "sql =\"\"\"\n",
    "CREATE TABLE campaign_table (\n",
    "            DESCRIPTION VARCHAR(10),\n",
    "            household_key INT,\n",
    "            CAMPAIGN SMALLINT,\n",
    "            \n",
    "            CONSTRAINT household_key_FK FOREIGN KEY (household_key) REFERENCES hh_demographic (household_key),\n",
    "            CONSTRAINT CAMPAIGN_FK FOREIGN KEY (CAMPAIGN) REFERENCES campaign_desc(CAMPAIGN)\n",
    "            \n",
    ")ENGINE = INNODB;\n",
    "\"\"\"\n",
    "cursor.execute(sql)"
   ]
  },
  {
   "cell_type": "code",
   "execution_count": 14,
   "metadata": {},
   "outputs": [
    {
     "data": {
      "text/plain": [
       "7208"
      ]
     },
     "execution_count": 14,
     "metadata": {},
     "output_type": "execute_result"
    }
   ],
   "source": [
    "#匯入campaign_table.csv檔案到資料庫\n",
    "sql =\"\"\"\n",
    "LOAD DATA LOCAL INFILE \"./data/campaign_table.csv\" \n",
    "INTO TABLE campaign_table\n",
    "FIELDS TERMINATED BY ',' \n",
    "ENCLOSED BY '\"'\n",
    "LINES TERMINATED BY '\\n'\n",
    "IGNORE 1 ROWS\n",
    "(DESCRIPTION,household_key,CAMPAIGN);\n",
    "\"\"\"\n",
    "cursor.execute(sql)"
   ]
  },
  {
   "cell_type": "code",
   "execution_count": 15,
   "metadata": {},
   "outputs": [],
   "source": [
    "#交易確認送出\n",
    "conn.commit()"
   ]
  },
  {
   "cell_type": "code",
   "execution_count": 16,
   "metadata": {},
   "outputs": [
    {
     "data": {
      "text/plain": [
       "0"
      ]
     },
     "execution_count": 16,
     "metadata": {},
     "output_type": "execute_result"
    }
   ],
   "source": [
    "#建立 coupon TABLE\n",
    "sql =\"\"\"\n",
    "CREATE TABLE coupon (\n",
    "            COUPON_UPC BIGINT,\n",
    "            PRODUCT_ID INT,\n",
    "            CAMPAIGN SMALLINT,\n",
    "            \n",
    "            CONSTRAINT PRODUCT_ID_FK_1 FOREIGN KEY (PRODUCT_ID) REFERENCES product (PRODUCT_ID),\n",
    "            CONSTRAINT CAMPAIGN_FK_1 FOREIGN KEY (CAMPAIGN) REFERENCES campaign_desc (CAMPAIGN)\n",
    "            \n",
    ")ENGINE = INNODB;\n",
    "\"\"\"\n",
    "cursor.execute(sql)"
   ]
  },
  {
   "cell_type": "code",
   "execution_count": 17,
   "metadata": {},
   "outputs": [
    {
     "data": {
      "text/plain": [
       "124548"
      ]
     },
     "execution_count": 17,
     "metadata": {},
     "output_type": "execute_result"
    }
   ],
   "source": [
    "#匯入coupon.csv檔案到資料庫\n",
    "sql =\"\"\"\n",
    "LOAD DATA LOCAL INFILE \"./data/coupon.csv\" \n",
    "INTO TABLE coupon\n",
    "FIELDS TERMINATED BY ',' \n",
    "ENCLOSED BY '\"'\n",
    "LINES TERMINATED BY '\\n'\n",
    "IGNORE 1 ROWS\n",
    "(COUPON_UPC,PRODUCT_ID,CAMPAIGN);\n",
    "\"\"\"\n",
    "cursor.execute(sql)"
   ]
  },
  {
   "cell_type": "code",
   "execution_count": 18,
   "metadata": {},
   "outputs": [],
   "source": [
    "#交易確認送出\n",
    "conn.commit()"
   ]
  },
  {
   "cell_type": "code",
   "execution_count": 19,
   "metadata": {},
   "outputs": [
    {
     "data": {
      "text/plain": [
       "0"
      ]
     },
     "execution_count": 19,
     "metadata": {},
     "output_type": "execute_result"
    }
   ],
   "source": [
    "#建立 transaction_data TABLE\n",
    "sql =\"\"\"\n",
    "CREATE TABLE transaction_data (\n",
    "            household_key INT,\n",
    "            BASKET_ID BIGINT,\n",
    "            DAY SMALLINT,\n",
    "            PRODUCT_ID INT NOT NULL,\n",
    "            QUANTITY INT,\n",
    "            SALES_VALUE FLOAT,\n",
    "            STORE_ID INT,\n",
    "            RETAIL_DISC FLOAT,\n",
    "            TRANS_TIME SMALLINT,\n",
    "            WEEK_NO SMALLINT,\n",
    "            COUPON_DISC FLOAT,\n",
    "            COUPON_MATCH_DISC FLOAT,\n",
    "            \n",
    "            CONSTRAINT household_key_FK_1 FOREIGN KEY (household_key) REFERENCES hh_demographic (household_key),\n",
    "            CONSTRAINT PRODUCT_ID_FK_2 FOREIGN KEY (PRODUCT_ID) REFERENCES product (PRODUCT_ID)\n",
    "            \n",
    ")ENGINE = INNODB;\n",
    "\"\"\"\n",
    "cursor.execute(sql)\n"
   ]
  },
  {
   "cell_type": "code",
   "execution_count": 20,
   "metadata": {},
   "outputs": [
    {
     "data": {
      "text/plain": [
       "2595732"
      ]
     },
     "execution_count": 20,
     "metadata": {},
     "output_type": "execute_result"
    }
   ],
   "source": [
    "#匯入transaction_data.csv檔案到資料庫\n",
    "sql =\"\"\"\n",
    "LOAD DATA LOCAL INFILE \"./data/transaction_data.csv\" \n",
    "INTO TABLE transaction_data\n",
    "FIELDS TERMINATED BY ',' \n",
    "ENCLOSED BY '\"'\n",
    "LINES TERMINATED BY '\\n'\n",
    "IGNORE 1 ROWS\n",
    "(household_key,BASKET_ID,DAY,PRODUCT_ID,QUANTITY,SALES_VALUE,STORE_ID,RETAIL_DISC,TRANS_TIME,WEEK_NO,COUPON_DISC,COUPON_MATCH_DISC);\n",
    "\"\"\"\n",
    "cursor.execute(sql)"
   ]
  },
  {
   "cell_type": "code",
   "execution_count": 21,
   "metadata": {},
   "outputs": [],
   "source": [
    "#交易確認送出\n",
    "conn.commit()"
   ]
  },
  {
   "cell_type": "code",
   "execution_count": 22,
   "metadata": {},
   "outputs": [
    {
     "data": {
      "text/plain": [
       "0"
      ]
     },
     "execution_count": 22,
     "metadata": {},
     "output_type": "execute_result"
    }
   ],
   "source": [
    "#建立 coupon_redempt TABLE\n",
    "sql =\"\"\"\n",
    "CREATE TABLE coupon_redempt (\n",
    "            household_key INT,\n",
    "            DAY SMALLINT,\n",
    "            COUPON_UPC BIGINT,\n",
    "            CAMPAIGN SMALLINT,\n",
    "            \n",
    "            CONSTRAINT household_key_FK_2 FOREIGN KEY (household_key) REFERENCES hh_demographic (household_key),\n",
    "            CONSTRAINT CAMPAIGN_FK_2 FOREIGN KEY (CAMPAIGN) REFERENCES campaign_desc(CAMPAIGN)\n",
    "            \n",
    ")ENGINE = INNODB;\n",
    "\"\"\"\n",
    "cursor.execute(sql)"
   ]
  },
  {
   "cell_type": "code",
   "execution_count": 23,
   "metadata": {},
   "outputs": [
    {
     "data": {
      "text/plain": [
       "2318"
      ]
     },
     "execution_count": 23,
     "metadata": {},
     "output_type": "execute_result"
    }
   ],
   "source": [
    "#匯入coupon_redempt.csv檔案到資料庫\n",
    "sql =\"\"\"\n",
    "LOAD DATA LOCAL INFILE \"./data/coupon_redempt.csv\" \n",
    "INTO TABLE coupon_redempt\n",
    "FIELDS TERMINATED BY ',' \n",
    "ENCLOSED BY '\"'\n",
    "LINES TERMINATED BY '\\n'\n",
    "IGNORE 1 ROWS\n",
    "(household_key,DAY,COUPON_UPC,CAMPAIGN);\n",
    "\"\"\"\n",
    "cursor.execute(sql)"
   ]
  },
  {
   "cell_type": "code",
   "execution_count": 24,
   "metadata": {},
   "outputs": [],
   "source": [
    "#交易確認送出\n",
    "conn.commit()"
   ]
  },
  {
   "cell_type": "code",
   "execution_count": 25,
   "metadata": {},
   "outputs": [
    {
     "data": {
      "text/plain": [
       "0"
      ]
     },
     "execution_count": 25,
     "metadata": {},
     "output_type": "execute_result"
    }
   ],
   "source": [
    "#建立 causal_data TABLE\n",
    "sql =\"\"\"\n",
    "CREATE TABLE causal_data (\n",
    "            PRODUCT_ID INT NOT NULL,\n",
    "            STORE_ID INT NOT NULL,\n",
    "            WEEK_NO SMALLINT,\n",
    "            display VARCHAR(5),\n",
    "            mailer VARCHAR(5),\n",
    "            \n",
    "            CONSTRAINT PRODUCT_ID_FK FOREIGN KEY (PRODUCT_ID) REFERENCES product (PRODUCT_ID)\n",
    "            \n",
    ")ENGINE = INNODB;\n",
    "\"\"\"\n",
    "cursor.execute(sql)"
   ]
  },
  {
   "cell_type": "code",
   "execution_count": 26,
   "metadata": {},
   "outputs": [],
   "source": [
    "#匯入causal_data.csv檔案到資料庫\n",
    "for i in range(0,37):\n",
    "    sql =\"\"\"\n",
    "    LOAD DATA LOCAL INFILE \"./data/causaldata_splited/causal_data_%s.csv\"\n",
    "    INTO TABLE causal_data\n",
    "    FIELDS TERMINATED BY ',' \n",
    "    ENCLOSED BY '\"'\n",
    "    LINES TERMINATED BY '\\n'\n",
    "    IGNORE 1 ROWS\n",
    "    (PRODUCT_ID,STORE_ID,WEEK_NO,display,mailer);\"\"\"  % i\n",
    "\n",
    "    cursor.execute(sql)\n",
    "    #交易確認送出\n",
    "    conn.commit()\n"
   ]
  },
  {
   "cell_type": "code",
   "execution_count": 27,
   "metadata": {},
   "outputs": [],
   "source": [
    "# sql =\"SELECT * FROM campaign_desc;\"\n",
    "# cursor.execute(sql)"
   ]
  },
  {
   "cell_type": "code",
   "execution_count": 28,
   "metadata": {},
   "outputs": [],
   "source": [
    "# data = cursor.fetchall()\n",
    "# data"
   ]
  },
  {
   "cell_type": "code",
   "execution_count": 29,
   "metadata": {},
   "outputs": [],
   "source": [
    "#關閉游標及連線\n",
    "cursor.close()\n",
    "conn.close()"
   ]
  },
  {
   "cell_type": "code",
   "execution_count": null,
   "metadata": {},
   "outputs": [],
   "source": []
  }
 ],
 "metadata": {
  "kernelspec": {
   "display_name": "Python 3",
   "language": "python",
   "name": "python3"
  },
  "language_info": {
   "codemirror_mode": {
    "name": "ipython",
    "version": 3
   },
   "file_extension": ".py",
   "mimetype": "text/x-python",
   "name": "python",
   "nbconvert_exporter": "python",
   "pygments_lexer": "ipython3",
   "version": "3.7.4"
  }
 },
 "nbformat": 4,
 "nbformat_minor": 4
}
